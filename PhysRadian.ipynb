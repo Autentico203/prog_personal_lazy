{
 "cells": [
  {
   "cell_type": "code",
   "execution_count": 1,
   "metadata": {},
   "outputs": [],
   "source": [
    "#This program use radian measure to calculate angles\n",
    "#import libraries\n",
    "import numpy as np\n",
    "import math \n",
    "\n",
    "#define constants\n",
    "#k = 9e9 #electric and magnetic physics\n",
    "k = 1.38e-23 #thermal physics\n",
    "NA = 6.022e23\n",
    "R = 8.314\n",
    "pi = math.pi\n",
    "epsilon0 = 1 / (4* pi * k)\n",
    "miu0 = 4 * math.pi * 1e-7\n",
    "c = 3e8\n",
    "g = 9.81\n",
    "h = 6.626e-34\n",
    "h_e = 4.136e-15  #h / (1.6e-19), units in eV*sec\n",
    "e = math.e\n",
    "a0 = 0.05292 #units in nm\n",
    "me = 9.109e-31 #mass of electron\n",
    "#define functions\n",
    "\n",
    "def log(x):\n",
    "    return math.log(x)\n",
    "def sqrt(x):\n",
    "    return math.sqrt(x)\n",
    "def exp(x):\n",
    "    return math.exp(x)\n",
    "\n",
    "def cos(x):\n",
    "    return math.cos(x)\n",
    "def sin(x):\n",
    "    return math.sin(x)\n",
    "def tan(x):\n",
    "    return math.tan(x)\n",
    "\n",
    "def cos2(x):\n",
    "    return (cos(x))**2\n",
    "def sin2(x):\n",
    "    return (sin(x))**2\n",
    "def tan2(x):\n",
    "    return (tan(x))**2\n",
    "\n",
    "def acos(x):\n",
    "    return math.acos(x)\n",
    "def asin(x):\n",
    "    return math.asin(x)\n",
    "def atan(x):\n",
    "    return math.atan(x)\n",
    "\n",
    "#Used if changing one system to the other is required\n",
    "def ang_rad(x):\n",
    "    radian = x * math.pi / 180\n",
    "    return radian\n",
    "def rad_ang(x):\n",
    "    angle = x * 180 / math.pi\n",
    "    return angle\n",
    "\n",
    "#Discrete Mathetical functions\n",
    "def factorial(x):\n",
    "    if (x == 1) | (x == 0):\n",
    "        return 1\n",
    "    else:\n",
    "        return x * factorial(x-1)\n",
    "    \n",
    "def permutation(n,r):\n",
    "    return int(factorial(n) / factorial(n - r))\n",
    "\n",
    "def combination(n,r):\n",
    "    return int(factorial(n) / (factorial(r) * factorial(n - r)))\n",
    "\n"
   ]
  },
  {
   "cell_type": "code",
   "execution_count": 2,
   "metadata": {},
   "outputs": [
    {
     "data": {
      "text/plain": [
       "0.10549819927971188"
      ]
     },
     "execution_count": 2,
     "metadata": {},
     "output_type": "execute_result"
    }
   ],
   "source": []
  },
  {
   "cell_type": "code",
   "execution_count": 3,
   "metadata": {},
   "outputs": [
    {
     "data": {
      "text/plain": [
       "0.02857142857142857"
      ]
     },
     "execution_count": 3,
     "metadata": {},
     "output_type": "execute_result"
    }
   ],
   "source": [
    "1 / 35"
   ]
  },
  {
   "cell_type": "code",
   "execution_count": 5,
   "metadata": {},
   "outputs": [
    {
     "data": {
      "text/plain": [
       "5659423235091422706737318400"
      ]
     },
     "execution_count": 5,
     "metadata": {},
     "output_type": "execute_result"
    }
   ],
   "source": [
    "factorial(4) * combination(48,12)*combination(36,12)*combination(24,12) / (combination(52,13) *combination(39,13)* combination(26,13))"
   ]
  },
  {
   "cell_type": "code",
   "execution_count": null,
   "metadata": {},
   "outputs": [],
   "source": []
  }
 ],
 "metadata": {
  "interpreter": {
   "hash": "88279d2366fe020547cde40dd65aa0e3aa662a6ec1f3ca12d88834876c85e1a6"
  },
  "kernelspec": {
   "display_name": "Python 3.9.7 ('base')",
   "language": "python",
   "name": "python3"
  },
  "language_info": {
   "codemirror_mode": {
    "name": "ipython",
    "version": 3
   },
   "file_extension": ".py",
   "mimetype": "text/x-python",
   "name": "python",
   "nbconvert_exporter": "python",
   "pygments_lexer": "ipython3",
   "version": "3.9.7"
  },
  "orig_nbformat": 4
 },
 "nbformat": 4,
 "nbformat_minor": 2
}
